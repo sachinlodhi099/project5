{
 "cells": [
  {
   "cell_type": "code",
   "execution_count": 26,
   "id": "39884639-738e-4b23-a00e-b5408c13fca0",
   "metadata": {},
   "outputs": [],
   "source": [
    "import tensorflow as tf\n",
    "from tensorflow.keras.preprocessing.image import ImageDataGenerator\n",
    "from tensorflow.keras.applications import ResNet50\n",
    "from tensorflow.keras.models import Sequential\n",
    "from tensorflow.keras.layers import Dense, GlobalAveragePooling2D\n",
    "from tensorflow.keras.optimizers import Adam\n",
    "from tensorflow.keras.callbacks import EarlyStopping\n",
    "\n",
    "# Step 1: Data preparation\n",
    "# Assuming your data is in 'main_dataset/Normal' and 'main_dataset/TB'\n"
   ]
  },
  {
   "cell_type": "code",
   "execution_count": 27,
   "id": "ee34e0c0-8227-47a4-ae05-7244b3bae94f",
   "metadata": {},
   "outputs": [],
   "source": [
    "data_path = 'C:/Users/User/Desktop/Dataset of Tuberculosis Chest X-rays Images'\n",
    "image_size = (224, 224)\n",
    "batch_size = 32\n"
   ]
  },
  {
   "cell_type": "code",
   "execution_count": 28,
   "id": "0a80cade-7352-4d91-808c-7f77cc87538b",
   "metadata": {},
   "outputs": [
    {
     "name": "stdout",
     "output_type": "stream",
     "text": [
      "Found 2408 images belonging to 2 classes.\n",
      "Found 600 images belonging to 2 classes.\n"
     ]
    }
   ],
   "source": [
    "# Create data generators for training and validation\n",
    "train_datagen = ImageDataGenerator(\n",
    "    rescale=1./255,\n",
    "    rotation_range=20,\n",
    "    zoom_range=0.2,\n",
    "    horizontal_flip=True,\n",
    "    validation_split=0.2 # 80% for training, 20% for validation/testing\n",
    ")\n",
    "\n",
    "train_generator = train_datagen.flow_from_directory(\n",
    "    data_path,\n",
    "    target_size=image_size,\n",
    "    batch_size=batch_size,\n",
    "    class_mode='binary',\n",
    "    subset='training'\n",
    ")\n",
    "validation_generator = train_datagen.flow_from_directory(\n",
    "    data_path,\n",
    "    target_size=image_size,\n",
    "    batch_size=batch_size,\n",
    "    class_mode='binary',\n",
    "    subset='validation'\n",
    ")"
   ]
  },
  {
   "cell_type": "code",
   "execution_count": 29,
   "id": "0480ff89-8ae7-4913-a35b-ee3225b03329",
   "metadata": {},
   "outputs": [],
   "source": [
    "# Step 2: Build the model using transfer learning\n",
    "base_model = ResNet50(weights='imagenet', include_top=False, input_shape=(224, 224, 3))\n",
    "base_model.trainable = False # Freeze the pre-trained layers\n",
    "\n",
    "model = Sequential([\n",
    "    base_model,\n",
    "    GlobalAveragePooling2D(),\n",
    "    Dense(256, activation='relu'),\n",
    "    Dense(1, activation='sigmoid') # Binary classification output\n",
    "])"
   ]
  },
  {
   "cell_type": "code",
   "execution_count": 30,
   "id": "2ba78ba5-be09-44a8-a6e9-589be07c461e",
   "metadata": {},
   "outputs": [
    {
     "name": "stdout",
     "output_type": "stream",
     "text": [
      "Epoch 1/20\n",
      "\u001b[1m76/76\u001b[0m \u001b[32m━━━━━━━━━━━━━━━━━━━━\u001b[0m\u001b[37m\u001b[0m \u001b[1m348s\u001b[0m 4s/step - accuracy: 0.8289 - loss: 0.4648 - val_accuracy: 0.8300 - val_loss: 0.4540\n",
      "Epoch 2/20\n",
      "\u001b[1m76/76\u001b[0m \u001b[32m━━━━━━━━━━━━━━━━━━━━\u001b[0m\u001b[37m\u001b[0m \u001b[1m330s\u001b[0m 4s/step - accuracy: 0.8289 - loss: 0.4576 - val_accuracy: 0.8300 - val_loss: 0.4529\n",
      "Epoch 3/20\n",
      "\u001b[1m76/76\u001b[0m \u001b[32m━━━━━━━━━━━━━━━━━━━━\u001b[0m\u001b[37m\u001b[0m \u001b[1m326s\u001b[0m 4s/step - accuracy: 0.8289 - loss: 0.4525 - val_accuracy: 0.8300 - val_loss: 0.4511\n",
      "Epoch 4/20\n",
      "\u001b[1m76/76\u001b[0m \u001b[32m━━━━━━━━━━━━━━━━━━━━\u001b[0m\u001b[37m\u001b[0m \u001b[1m388s\u001b[0m 4s/step - accuracy: 0.8289 - loss: 0.4504 - val_accuracy: 0.8300 - val_loss: 0.4501\n",
      "Epoch 5/20\n",
      "\u001b[1m76/76\u001b[0m \u001b[32m━━━━━━━━━━━━━━━━━━━━\u001b[0m\u001b[37m\u001b[0m \u001b[1m334s\u001b[0m 4s/step - accuracy: 0.8289 - loss: 0.4515 - val_accuracy: 0.8300 - val_loss: 0.4492\n",
      "Epoch 6/20\n",
      "\u001b[1m76/76\u001b[0m \u001b[32m━━━━━━━━━━━━━━━━━━━━\u001b[0m\u001b[37m\u001b[0m \u001b[1m328s\u001b[0m 4s/step - accuracy: 0.8289 - loss: 0.4477 - val_accuracy: 0.8300 - val_loss: 0.4508\n",
      "Epoch 7/20\n",
      "\u001b[1m76/76\u001b[0m \u001b[32m━━━━━━━━━━━━━━━━━━━━\u001b[0m\u001b[37m\u001b[0m \u001b[1m327s\u001b[0m 4s/step - accuracy: 0.8289 - loss: 0.4481 - val_accuracy: 0.8300 - val_loss: 0.4484\n",
      "Epoch 8/20\n",
      "\u001b[1m76/76\u001b[0m \u001b[32m━━━━━━━━━━━━━━━━━━━━\u001b[0m\u001b[37m\u001b[0m \u001b[1m380s\u001b[0m 4s/step - accuracy: 0.8289 - loss: 0.4395 - val_accuracy: 0.8300 - val_loss: 0.4567\n",
      "Epoch 9/20\n",
      "\u001b[1m76/76\u001b[0m \u001b[32m━━━━━━━━━━━━━━━━━━━━\u001b[0m\u001b[37m\u001b[0m \u001b[1m296s\u001b[0m 4s/step - accuracy: 0.8289 - loss: 0.4445 - val_accuracy: 0.8300 - val_loss: 0.4386\n",
      "Epoch 10/20\n",
      "\u001b[1m76/76\u001b[0m \u001b[32m━━━━━━━━━━━━━━━━━━━━\u001b[0m\u001b[37m\u001b[0m \u001b[1m311s\u001b[0m 4s/step - accuracy: 0.8289 - loss: 0.4422 - val_accuracy: 0.8300 - val_loss: 0.4392\n",
      "Epoch 11/20\n",
      "\u001b[1m76/76\u001b[0m \u001b[32m━━━━━━━━━━━━━━━━━━━━\u001b[0m\u001b[37m\u001b[0m \u001b[1m326s\u001b[0m 4s/step - accuracy: 0.8289 - loss: 0.4356 - val_accuracy: 0.8300 - val_loss: 0.4385\n",
      "Epoch 12/20\n",
      "\u001b[1m76/76\u001b[0m \u001b[32m━━━━━━━━━━━━━━━━━━━━\u001b[0m\u001b[37m\u001b[0m \u001b[1m327s\u001b[0m 4s/step - accuracy: 0.8289 - loss: 0.4339 - val_accuracy: 0.8300 - val_loss: 0.4327\n",
      "Epoch 13/20\n",
      "\u001b[1m76/76\u001b[0m \u001b[32m━━━━━━━━━━━━━━━━━━━━\u001b[0m\u001b[37m\u001b[0m \u001b[1m327s\u001b[0m 4s/step - accuracy: 0.8289 - loss: 0.4322 - val_accuracy: 0.8300 - val_loss: 0.4306\n",
      "Epoch 14/20\n",
      "\u001b[1m76/76\u001b[0m \u001b[32m━━━━━━━━━━━━━━━━━━━━\u001b[0m\u001b[37m\u001b[0m \u001b[1m353s\u001b[0m 5s/step - accuracy: 0.8289 - loss: 0.4285 - val_accuracy: 0.8300 - val_loss: 0.4294\n",
      "Epoch 15/20\n",
      "\u001b[1m76/76\u001b[0m \u001b[32m━━━━━━━━━━━━━━━━━━━━\u001b[0m\u001b[37m\u001b[0m \u001b[1m317s\u001b[0m 4s/step - accuracy: 0.8289 - loss: 0.4255 - val_accuracy: 0.8300 - val_loss: 0.4280\n",
      "Epoch 16/20\n",
      "\u001b[1m76/76\u001b[0m \u001b[32m━━━━━━━━━━━━━━━━━━━━\u001b[0m\u001b[37m\u001b[0m \u001b[1m315s\u001b[0m 4s/step - accuracy: 0.8289 - loss: 0.4271 - val_accuracy: 0.8300 - val_loss: 0.4305\n",
      "Epoch 17/20\n",
      "\u001b[1m76/76\u001b[0m \u001b[32m━━━━━━━━━━━━━━━━━━━━\u001b[0m\u001b[37m\u001b[0m \u001b[1m374s\u001b[0m 5s/step - accuracy: 0.8289 - loss: 0.4231 - val_accuracy: 0.8300 - val_loss: 0.4238\n",
      "Epoch 18/20\n",
      "\u001b[1m76/76\u001b[0m \u001b[32m━━━━━━━━━━━━━━━━━━━━\u001b[0m\u001b[37m\u001b[0m \u001b[1m378s\u001b[0m 5s/step - accuracy: 0.8289 - loss: 0.4188 - val_accuracy: 0.8300 - val_loss: 0.4250\n",
      "Epoch 19/20\n",
      "\u001b[1m76/76\u001b[0m \u001b[32m━━━━━━━━━━━━━━━━━━━━\u001b[0m\u001b[37m\u001b[0m \u001b[1m369s\u001b[0m 5s/step - accuracy: 0.8289 - loss: 0.4163 - val_accuracy: 0.8300 - val_loss: 0.4232\n",
      "Epoch 20/20\n",
      "\u001b[1m76/76\u001b[0m \u001b[32m━━━━━━━━━━━━━━━━━━━━\u001b[0m\u001b[37m\u001b[0m \u001b[1m345s\u001b[0m 4s/step - accuracy: 0.8289 - loss: 0.4175 - val_accuracy: 0.8300 - val_loss: 0.4168\n"
     ]
    }
   ],
   "source": [
    "model.compile(optimizer=Adam(learning_rate=0.0001),\n",
    "              loss='binary_crossentropy',\n",
    "              metrics=['accuracy'])\n",
    "\n",
    "# Implement early stopping\n",
    "early_stopping = EarlyStopping(monitor='val_loss', patience=5)\n",
    "\n",
    "history = model.fit(\n",
    "    train_generator,\n",
    "    validation_data=validation_generator,\n",
    "    epochs=20, # Start with a reasonable number of epochs\n",
    "    callbacks=[early_stopping]\n",
    ")"
   ]
  },
  {
   "cell_type": "code",
   "execution_count": 32,
   "id": "7178d63b-ce18-44a2-9b29-73a102304a44",
   "metadata": {},
   "outputs": [
    {
     "name": "stdout",
     "output_type": "stream",
     "text": [
      "Final Training Loss: 0.4175\n",
      "Final Training Accuracy: 0.8289\n",
      "Final Validation Loss: 0.4168\n",
      "Final Validation Accuracy: 0.8300\n"
     ]
    }
   ],
   "source": [
    "final_train_loss = history.history['loss'][-1]\n",
    "final_train_accuracy = history.history['accuracy'][-1]\n",
    "\n",
    "# Get the final validation loss and accuracy\n",
    "final_val_loss = history.history['val_loss'][-1]\n",
    "final_val_accuracy = history.history['val_accuracy'][-1]\n",
    "\n",
    "# Print the results\n",
    "print(f\"Final Training Loss: {final_train_loss:.4f}\")\n",
    "print(f\"Final Training Accuracy: {final_train_accuracy:.4f}\")\n",
    "print(f\"Final Validation Loss: {final_val_loss:.4f}\")\n",
    "print(f\"Final Validation Accuracy: {final_val_accuracy:.4f}\")"
   ]
  },
  {
   "cell_type": "code",
   "execution_count": null,
   "id": "83127220-fcaa-4af5-9891-7d99b5644542",
   "metadata": {},
   "outputs": [],
   "source": []
  },
  {
   "cell_type": "code",
   "execution_count": null,
   "id": "5d3b0597-1180-4459-9e76-99020a511c4d",
   "metadata": {},
   "outputs": [],
   "source": []
  },
  {
   "cell_type": "code",
   "execution_count": 33,
   "id": "ed388c04-2988-4815-b710-14cab3e6ac05",
   "metadata": {},
   "outputs": [
    {
     "name": "stdout",
     "output_type": "stream",
     "text": [
      "Model saved successfully!\n"
     ]
    }
   ],
   "source": [
    "model.save('tb_detection_model.keras')\n",
    "print(\"Model saved successfully!\")"
   ]
  },
  {
   "cell_type": "code",
   "execution_count": null,
   "id": "262eb275-47de-4408-b9af-9133dcba2d89",
   "metadata": {},
   "outputs": [],
   "source": []
  },
  {
   "cell_type": "code",
   "execution_count": null,
   "id": "5ef86dc0-cc6a-48e8-a443-cbf723b698db",
   "metadata": {},
   "outputs": [],
   "source": []
  },
  {
   "cell_type": "code",
   "execution_count": null,
   "id": "3375a3af-efd2-4cb8-94cd-f69b4e0da038",
   "metadata": {},
   "outputs": [],
   "source": []
  },
  {
   "cell_type": "code",
   "execution_count": null,
   "id": "f84774a4-cf8f-474d-89c5-a818627d6adb",
   "metadata": {},
   "outputs": [],
   "source": []
  },
  {
   "cell_type": "code",
   "execution_count": null,
   "id": "6b510278-9dd5-4815-949b-bd88c235b359",
   "metadata": {},
   "outputs": [],
   "source": []
  },
  {
   "cell_type": "code",
   "execution_count": null,
   "id": "e288027b-7f7a-4e16-97e2-ba68559ab03f",
   "metadata": {},
   "outputs": [],
   "source": []
  },
  {
   "cell_type": "code",
   "execution_count": null,
   "id": "b68c20d2-60b2-4353-8a76-5394c84e79ff",
   "metadata": {},
   "outputs": [],
   "source": []
  },
  {
   "cell_type": "code",
   "execution_count": null,
   "id": "fd871848-2f70-4864-b9ff-31068d204fc2",
   "metadata": {},
   "outputs": [],
   "source": []
  },
  {
   "cell_type": "code",
   "execution_count": null,
   "id": "918ffe61-eed4-4aff-a2c0-bdd5c5761b85",
   "metadata": {},
   "outputs": [],
   "source": []
  },
  {
   "cell_type": "code",
   "execution_count": null,
   "id": "cc241946-d5ca-49a7-b83d-3e2c91afac80",
   "metadata": {},
   "outputs": [],
   "source": []
  },
  {
   "cell_type": "code",
   "execution_count": null,
   "id": "8a0fe69e-92ed-4b39-aed5-4053c4cbc4b3",
   "metadata": {},
   "outputs": [],
   "source": []
  },
  {
   "cell_type": "code",
   "execution_count": null,
   "id": "1787e6dc-fe9b-47ad-9801-2c87153c8d28",
   "metadata": {},
   "outputs": [],
   "source": []
  },
  {
   "cell_type": "code",
   "execution_count": null,
   "id": "c2e8e420-55db-475d-9f0c-5f59c420c014",
   "metadata": {},
   "outputs": [],
   "source": []
  }
 ],
 "metadata": {
  "kernelspec": {
   "display_name": "Python 3 (ipykernel)",
   "language": "python",
   "name": "python3"
  },
  "language_info": {
   "codemirror_mode": {
    "name": "ipython",
    "version": 3
   },
   "file_extension": ".py",
   "mimetype": "text/x-python",
   "name": "python",
   "nbconvert_exporter": "python",
   "pygments_lexer": "ipython3",
   "version": "3.12.3"
  }
 },
 "nbformat": 4,
 "nbformat_minor": 5
}
